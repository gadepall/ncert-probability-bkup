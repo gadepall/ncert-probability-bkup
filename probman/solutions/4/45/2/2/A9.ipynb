{
  "nbformat": 4,
  "nbformat_minor": 0,
  "metadata": {
    "colab": {
      "name": "A9.ipynb",
      "provenance": []
    },
    "kernelspec": {
      "name": "python3",
      "display_name": "Python 3"
    }
  },
  "cells": [
    {
      "cell_type": "code",
      "metadata": {
        "id": "_MKeOBP2eMvy",
        "outputId": "9026fd9b-4c39-47eb-8a6a-e5c2f68ae6e5",
        "colab": {
          "base_uri": "https://localhost:8080/",
          "height": 52
        }
      },
      "source": [
        "import numpy as np\n",
        "from numpy.linalg import inv\n",
        "from numpy import linalg as l\n",
        "\n",
        "M = np.array([[1,0],[0,1],[-2,3]])\n",
        "b = np.array([[3],[-2],[2]])\n",
        "\n",
        "#Singular Value Decomposition\n",
        "U, s, V=l.svd(M)\n",
        "\n",
        "# Diagonalizing S\n",
        "S = np.zeros(M.shape)\n",
        "Sinv = S.T\n",
        "S[:2,:2] = np.diag(s)\n",
        "sinv = 1./s\n",
        "\n",
        "#Inverse transpose of S (Moore Penrose Pseudo Inverse)\n",
        "Sinv[:2,:2] = np.diag(sinv)\n",
        "\n",
        "#Solution\n",
        "x = V.T.dot(Sinv).dot(U.T).dot(b)\n",
        "print(x)"
      ],
      "execution_count": 4,
      "outputs": [
        {
          "output_type": "stream",
          "text": [
            "[[1.]\n",
            " [1.]]\n"
          ],
          "name": "stdout"
        }
      ]
    }
  ]
}