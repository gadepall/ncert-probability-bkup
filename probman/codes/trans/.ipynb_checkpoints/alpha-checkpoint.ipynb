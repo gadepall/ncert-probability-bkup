{
 "cells": [
  {
   "cell_type": "markdown",
   "metadata": {
    "colab_type": "text",
    "id": "view-in-github"
   },
   "source": [
    "<a href=\"https://colab.research.google.com/github/96143/Assignment-1/blob/main/assignment_1.ipynb\" target=\"_parent\"><img src=\"https://colab.research.google.com/assets/colab-badge.svg\" alt=\"Open In Colab\"/></a>"
   ]
  },
  {
   "cell_type": "code",
   "execution_count": null,
   "metadata": {},
   "outputs": [],
   "source": []
  },
  {
   "cell_type": "code",
   "execution_count": null,
   "metadata": {
    "colab": {
     "base_uri": "https://localhost:8080/",
     "height": 562
    },
    "id": "3Mw3lI1Kr6VJ",
    "outputId": "99ecc31e-dc63-4118-9302-c76627206110"
   },
   "outputs": [],
   "source": []
  },
  {
   "cell_type": "code",
   "execution_count": null,
   "metadata": {},
   "outputs": [],
   "source": []
  },
  {
   "cell_type": "code",
   "execution_count": 6,
   "metadata": {},
   "outputs": [
    {
     "name": "stderr",
     "output_type": "stream",
     "text": [
      "/data/data/com.termux/files/usr/lib/python3.9/site-packages/seaborn/distributions.py:2557: FutureWarning: `distplot` is a deprecated function and will be removed in a future version. Please adapt your code to use either `displot` (a figure-level function with similar flexibility) or `kdeplot` (an axes-level function for kernel density plots).\n",
      "  warnings.warn(msg, FutureWarning)\n"
     ]
    },
    {
     "data": {
      "image/png": "[encoded data removed]",
      "text/plain": [
       "<Figure size 432x288 with 1 Axes>"
      ]
     },
     "metadata": {
      "needs_background": "light"
     },
     "output_type": "display_data"
    }
   ],
   "source": [
    "import numpy as np\n",
    "import seaborn as sns\n",
    "import matplotlib.pyplot as plt\n",
    " \n",
    "#import warnings\n",
    "#warnings.filterwarnings(\"ignore\")\n",
    " \n",
    "x1 = np.random.normal(0, 1, 10000)\n",
    "x2 = np.random.normal(0, 1, 10000)\n",
    "x = np.linspace(0,15,50)\n",
    "alpha = 0.5\n",
    " \n",
    "V = np.power(x1,2) + np.power(x2,2)\n",
    "V_th = 1 - np.exp(-alpha*np.power(x,2))\n",
    " \n",
    "sns.distplot(V, hist_kws={'cumulative': True} , kde_kws={'cumulative': True}, hist = False )\n",
    "plt.plot(x,V_th,'o',label='theory')\n",
    "plt.title('CDF OF V')\n",
    "plt.grid()\n",
    "plt.xlabel('v')\n",
    "plt.ylabel('$F_V(v)$')\n",
    "plt.savefig('/storage/emulated/0/github/ncert-probability/probman/figs/trans/cdf_V.png')\n",
    "plt.show()\n",
    "\n",
    " \n",
    " \n"
   ]
  }
 ],
 "metadata": {
  "colab": {
   "authorship_tag": "ABX9TyMPenmes5tlSbWoyouYo4uS",
   "collapsed_sections": [],
   "include_colab_link": true,
   "name": "assignment 1",
   "provenance": []
  },
  "kernelspec": {
   "display_name": "Python 3",
   "language": "python",
   "name": "python3"
  },
  "language_info": {
   "codemirror_mode": {
    "name": "ipython",
    "version": 3
   },
   "file_extension": ".py",
   "mimetype": "text/x-python",
   "name": "python",
   "nbconvert_exporter": "python",
   "pygments_lexer": "ipython3",
   "version": "3.9.2"
  }
 },
 "nbformat": 4,
 "nbformat_minor": 1
}
