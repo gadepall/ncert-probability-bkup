{
 "cells": [
  {
   "cell_type": "code",
   "execution_count": 1,
   "id": "returning-developer",
   "metadata": {},
   "outputs": [
    {
     "name": "stdin",
     "output_type": "stream",
     "text": [
      "Enter number of samples to be printed a/c to pmf\n",
      " 100\n"
     ]
    },
    {
     "name": "stdout",
     "output_type": "stream",
     "text": [
      "Generated samples according to the probability distribution is \n",
      "\n",
      "['2', '2', '2', '2', '2', '2', '2', '2', '2', '2', '2', '2', '2', '2', '2', '2', '1', '2', '0', '2', '2', '2', '2', '2', '2', '2', '2', '2', '2', '2', '2', '2', '2', '2', '2', '1', '2', '1', '1', '1', '2', '1', '2', '2', '2', '2', '2', '2', '2', '2', '2', '2', '2', '2', '2', '2', '2', '2', '2', '2', '2', '2', '2', '2', '2', '2', '2', '2', '2', '2', '1', '2', '2', '2', '2', '2', '2', '2', '0', '2', '2', '2', '2', '2', '2', '2', '2', '2', '2', '2', '2', '1', '2', '2', '2', '2', '2', '2', '2', '2']\n",
      "2\n",
      "8\n",
      "90\n",
      "simulation versus actual probabilities\n",
      "Actual probabilities are [0.04, 0.08, 0.88]\n",
      "simulation probabilities are given by \n",
      "\n",
      "Probability for X=0 is  0.02\n",
      "Probability for X=1 is  0.08\n",
      "Probability for X=2 is  0.9\n"
     ]
    },
    {
     "data": {
      "image/png": "[encoded data removed]",
      "text/plain": [
       "<Figure size 432x288 with 1 Axes>"
      ]
     },
     "metadata": {
      "needs_background": "light"
     },
     "output_type": "display_data"
    }
   ],
   "source": [
    "import numpy as np\n",
    "import random\n",
    "from matplotlib import pyplot as plt\n",
    "# import uniform distribution\n",
    "from scipy.stats import uniform\n",
    "#num_trials is sample size\n",
    "# p is 3 length vector containing probabilities(pmf)\n",
    "# X is random variable which has 3 outcomes\n",
    "p=[0.04,0.08,0.88]#given distribution P(X=0)=0.04 ,P(X=1)=0.08 ,P(X=2)=0.88\n",
    "num_trials=int(input(\"Enter number of samples to be printed a/c to pmf\\n\"))#global variable\n",
    "cdfp=[0,0,0,0]\n",
    "cdfp=np.cumsum(p)# Cummulative pdf of pmf given\n",
    "#print(cdfp)\n",
    "def randomsamples(num_trials,p):\n",
    " Samples=[x for x in range(num_trials)]# creating string array for storage of samples\n",
    " alpha=[\"0\",\"1\",\"2\"]\n",
    " for i in range(num_trials):\n",
    "      U=np.random.rand() #random number between 0 and 1\n",
    "      if (U<=cdfp[0]):\n",
    "         Samples[i]=alpha[0]\n",
    "      elif (U>cdfp[0]) and (U<cdfp[1]):\n",
    "         Samples[i]=alpha[1]\n",
    "      elif (U>cdfp[1]):\n",
    "         Samples[i]=alpha[2]\n",
    "      \n",
    " Samples=str(Samples)\n",
    " return(Samples)\n",
    "y=randomsamples(num_trials,p)\n",
    "print(\"Generated samples according to the probability distribution is \\n\")\n",
    "print(y)\n",
    "count0=y.count(\"0\")\n",
    "count1=y.count(\"1\")\n",
    "count2=y.count(\"2\")\n",
    "print(count0)\n",
    "print(count1)\n",
    "print(count2)\n",
    "print(\"simulation versus actual probabilities\")\n",
    "print(\"Actual probabilities are\",p)\n",
    "print(\"simulation probabilities are given by \\n\")\n",
    "p_simul=[count0/num_trials,count1/num_trials,count2/num_trials]\n",
    "print(\"Probability for X=0 is \",count0/num_trials)\n",
    "print(\"Probability for X=1 is \",count1/num_trials)\n",
    "print(\"Probability for X=2 is \",count2/num_trials)\n",
    "plt.plot(p,p_simul,marker=\"o\",color=\"red\")\n",
    "plt.xlabel(\"Actual probability\")\n",
    "plt.ylabel(\"probability after simulation of random variables\")\n",
    "plt.title(\"simulation versus actual probabilities\")\n",
    "plt.show()"
   ]
  }
 ],
 "metadata": {
  "kernelspec": {
   "display_name": "Python 3",
   "language": "python",
   "name": "python3"
  },
  "language_info": {
   "codemirror_mode": {
    "name": "ipython",
    "version": 3
   },
   "file_extension": ".py",
   "mimetype": "text/x-python",
   "name": "python",
   "nbconvert_exporter": "python",
   "pygments_lexer": "ipython3",
   "version": "3.8.5"
  }
 },
 "nbformat": 4,
 "nbformat_minor": 5
}
